{
 "cells": [
  {
   "cell_type": "markdown",
   "metadata": {},
   "source": [
    "# Preguntas de esta tarea\n",
    "Escribe una secuencia de instrucciones que permitan leer un número real por pantalla y que muestre si el número es positivo o no.\n",
    "\n",
    "Escribe una secuencia de instrucciones que permitan leer un número real por pantalla y que muestre si el número está en el rango entre -5 y 5\n",
    "\n",
    "Escribe una secuencia de instrucciones que permitan leer las coordenadas de un punto (x, y) e indique en cuál de los cuatro cuadrantes se encuentra dicho punto.\n",
    "\n",
    "Escribe una secuencia de instrucciones que permitan leer dos números enteros y muestre el cociente de la división entera y el resto.\n",
    "\n",
    "Escribe una secuencia de instrucciones que permitan leer un número entero es cuadrado perfecto o no (piensa la mejor forma de hacerlo con lo que has aprendido hasta ahora)\n",
    "\n",
    "Escribe una expresión que permita determinar si un número entero positivo puede corresponder a un año bisiesto o no. Se consideran años bisiestos aquellos cuyo número es divisible por cuatro excepto los años que son múltiplos de 100, a no ser que lo sean de 400 (por ejemplo el año 2000 fue bisiesto pero el 2100 no lo será).\n",
    "\n",
    "Busca la imagen de un tablero de ajedrez en Google y fíjate en la nomenclatura de las casillas. Escribe una expresión lea una letra y un número de teclado correspondiente a una casilla de un tablero de ajedrez y nos indique si esta casilla es negra o blanca."
   ]
  },
  {
   "cell_type": "markdown",
   "metadata": {},
   "source": [
    "# Escribe una secuencia de instrucciones que permitan leer un número real por pantalla y que muestre si el número es positivo o no."
   ]
  },
  {
   "cell_type": "code",
   "execution_count": 168,
   "metadata": {},
   "outputs": [
    {
     "name": "stdout",
     "output_type": "stream",
     "text": [
      "Escribe un número: 2.1\n",
      " Es positivo\n"
     ]
    }
   ],
   "source": [
    "def esPositivo(x):\n",
    "    if float(x) >=0:\n",
    "        return ' Es positivo'\n",
    "    else:\n",
    "        return ' Es negativo'\n",
    "    \n",
    "res = esPositivo(input('Escribe un número: '))\n",
    "print(res)\n"
   ]
  },
  {
   "cell_type": "markdown",
   "metadata": {},
   "source": [
    "# Escribe una secuencia de instrucciones que permitan leer un número real por pantalla y que muestre si el número está en el rango entre -5 y 5"
   ]
  },
  {
   "cell_type": "code",
   "execution_count": 169,
   "metadata": {},
   "outputs": [],
   "source": [
    "def enRango(x):\n",
    "    y=float(x)\n",
    "    if y >=-5 and y <=5:\n",
    "        return ' En el rango -5 y 5'\n",
    "    else:\n",
    "        return ' Fuera de rango'"
   ]
  },
  {
   "cell_type": "code",
   "execution_count": 170,
   "metadata": {},
   "outputs": [
    {
     "name": "stdout",
     "output_type": "stream",
     "text": [
      "Escribe un numero22\n",
      " Fuera de rango\n"
     ]
    }
   ],
   "source": [
    "res=enRango(input('Escribe un numero'))\n",
    "print(res)"
   ]
  },
  {
   "cell_type": "markdown",
   "metadata": {},
   "source": [
    "# Escribe una secuencia de instrucciones que permitan leer las coordenadas de un punto (x, y) e indique en cuál de los cuatro cuadrantes se encuentra dicho punto"
   ]
  },
  {
   "cell_type": "code",
   "execution_count": 176,
   "metadata": {},
   "outputs": [
    {
     "data": {
      "text/plain": [
       "'cuadrante 2'"
      ]
     },
     "execution_count": 176,
     "metadata": {},
     "output_type": "execute_result"
    }
   ],
   "source": [
    "def getCuadrante(a,b):\n",
    "    x=float(a)\n",
    "    y=float(b)\n",
    "    if x >= 0 and y >= 0:\n",
    "        return 'cuadrante 1'\n",
    "    elif x > 0 and y < 0:\n",
    "        return 'cuadrante 2'\n",
    "    elif x < 0 and y > 0:\n",
    "        return 'cuadrante 3'\n",
    "    elif x < 0 and y < 0:\n",
    "        return 'cuadrante 4'\n",
    "      \n",
    "\n",
    "getCuadrante(10,-1)"
   ]
  },
  {
   "cell_type": "markdown",
   "metadata": {},
   "source": [
    "# Escribe una secuencia de instrucciones que permitan leer dos números enteros y muestre el cociente de la división entera y el resto."
   ]
  },
  {
   "cell_type": "code",
   "execution_count": 65,
   "metadata": {},
   "outputs": [],
   "source": [
    "import math\n",
    "class OperacionesSobreEnteros(object):\n",
    "    def cocienteYResto(self, x, y):\n",
    "        a = math.trunc(x)\n",
    "        b = math.trunc(y)\n",
    "        self.cociente = a//b\n",
    "        self.resto = a%b\n",
    "        return (self.cociente, self.resto)\n"
   ]
  },
  {
   "cell_type": "code",
   "execution_count": 66,
   "metadata": {},
   "outputs": [
    {
     "data": {
      "text/plain": [
       "(3, 1)"
      ]
     },
     "execution_count": 66,
     "metadata": {},
     "output_type": "execute_result"
    }
   ],
   "source": [
    "oper = OperacionesSobreEnteros()\n",
    "oper.cocienteYResto(10, 3)"
   ]
  },
  {
   "cell_type": "markdown",
   "metadata": {},
   "source": [
    "# Escribe una secuencia de instrucciones que permitan leer un número entero es cuadrado perfecto o no (piensa la mejor forma de hacerlo con lo que has aprendido hasta ahora)"
   ]
  },
  {
   "cell_type": "code",
   "execution_count": 96,
   "metadata": {},
   "outputs": [],
   "source": [
    "def esCuadradoPerfecto(x):\n",
    "    res = math.sqrt(math.trunc(x))\n",
    "    res = res*res\n",
    "    if(res != x):\n",
    "        return 'no es un cuadrado perfecto'\n",
    "    else:\n",
    "        return 'es un cuadrado perfecto'  "
   ]
  },
  {
   "cell_type": "code",
   "execution_count": null,
   "metadata": {},
   "outputs": [],
   "source": []
  },
  {
   "cell_type": "code",
   "execution_count": 103,
   "metadata": {},
   "outputs": [
    {
     "name": "stdout",
     "output_type": "stream",
     "text": [
      "16.0\n"
     ]
    },
    {
     "data": {
      "text/plain": [
       "'es un cuadrado perfecto'"
      ]
     },
     "execution_count": 103,
     "metadata": {},
     "output_type": "execute_result"
    }
   ],
   "source": [
    "esCuadradoPerfecto(16)"
   ]
  },
  {
   "cell_type": "markdown",
   "metadata": {},
   "source": [
    "# Escribe una expresión que permita determinar si un número entero positivo puede corresponder a un año bisiesto o no. Se consideran años bisiestos aquellos cuyo número es divisible por cuatro excepto los años que son múltiplos de 100, a no ser que lo sean de 400 (por ejemplo el año 2000 fue bisiesto pero el 2100 no lo será).\n"
   ]
  },
  {
   "cell_type": "code",
   "execution_count": 150,
   "metadata": {},
   "outputs": [
    {
     "data": {
      "text/plain": [
       "'No es año bisiesto'"
      ]
     },
     "execution_count": 150,
     "metadata": {},
     "output_type": "execute_result"
    }
   ],
   "source": [
    "def esBisiesto(a):\n",
    "    if(a < 0 ):\n",
    "        return 'Error: El año tiene que ser positivo'\n",
    "    if(a%4 == 0 and (a%100!=0 or a%400==0)):\n",
    "        return 'Es año bisiesto'\n",
    "    else:\n",
    "        return 'No es año bisiesto'\n",
    "        \n",
    "esBisiesto(2100)\n"
   ]
  },
  {
   "cell_type": "markdown",
   "metadata": {},
   "source": [
    "# Busca la imagen de un tablero de ajedrez en Google y fíjate en la nomenclatura de las casillas. Escribe una expresión lea una letra y un número de teclado correspondiente a una casilla de un tablero de ajedrez y nos indique si esta casilla es negra o blanca."
   ]
  },
  {
   "cell_type": "code",
   "execution_count": 160,
   "metadata": {},
   "outputs": [
    {
     "data": {
      "text/plain": [
       "'Celda negra'"
      ]
     },
     "execution_count": 160,
     "metadata": {},
     "output_type": "execute_result"
    }
   ],
   "source": [
    "def colorCeldaAjedrez(letra, numero):\n",
    "    letrasaceg=['A','C','E','G']\n",
    "    letrasbdfh=['B','D','F','H']\n",
    "    acegBlanca=[2,4,6,8]\n",
    "    bdfhBlanca=[1,3,5,7]\n",
    "    if(letra in letrasaceg):\n",
    "        if(numero in acegBlanca):\n",
    "            return 'Celda blanca'\n",
    "        else:\n",
    "            return 'Celda negra'\n",
    "    elif(letra in letrasbdfh):\n",
    "        if(numero in bdfhBlanca):\n",
    "            return 'Celda blanca'\n",
    "        else:\n",
    "            return 'Celda negra'\n",
    "    else:\n",
    "        return 'Ni idea'\n",
    "    \n",
    "colorCeldaAjedrez('F',8)"
   ]
  },
  {
   "cell_type": "code",
   "execution_count": null,
   "metadata": {},
   "outputs": [],
   "source": []
  }
 ],
 "metadata": {
  "kernelspec": {
   "display_name": "Python 3",
   "language": "python",
   "name": "python3"
  },
  "language_info": {
   "codemirror_mode": {
    "name": "ipython",
    "version": 3
   },
   "file_extension": ".py",
   "mimetype": "text/x-python",
   "name": "python",
   "nbconvert_exporter": "python",
   "pygments_lexer": "ipython3",
   "version": "3.7.4"
  }
 },
 "nbformat": 4,
 "nbformat_minor": 2
}
